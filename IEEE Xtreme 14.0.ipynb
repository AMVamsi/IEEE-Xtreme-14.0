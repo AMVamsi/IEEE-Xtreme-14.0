{
 "cells": [
  {
   "cell_type": "markdown",
   "metadata": {},
   "source": [
    "# Mosaic Decoration I\n",
    "\n",
    "Time limit: 2500 ms\n",
    "Memory limit: 256 MB\n",
    "\n",
    "Zapray lives in a big mansion that has N bathrooms. He wants to decorate the bathroom walls using mosaic tiles of two colors: black and pink. The ith bathroom needs Bi black tiles and Pi pink tiles. Mosaic tiles are sold in piles. Zapray can buy one pile of 10 black tiles for CB dollars, and one pile of 10 pink tiles for CP dollars. How much money does he need in total to decorate all the N bathrooms?\n",
    "\n",
    "\n",
    "#### Standard input\n",
    "The input contains three integers \n",
    "N,CB,CP on the first line.\n",
    "\n",
    "The next N lines each have two integers. The ith line has Bi and Pi.\n",
    "\n",
    "\n",
    "#### Standard output\n",
    "Output a single integer, the amount of money in dollars that Zapray needs to decorate all his bathrooms.\n",
    "\n",
    "\n",
    "Constraints and notes\n",
    "\n",
    "2≤N≤100||\n",
    "1≤CB,CP≤1000||\n",
    "1≤Bi,Pi≤1000\n",
    "\n",
    "\n",
    "Input\t\n",
    "\n",
    "3 5 7||\n",
    "10 10||\n",
    "20 30||\n",
    "30 3\n",
    "\n",
    "Output\n",
    "\n",
    "65\n",
    "\n",
    "Explanation\n",
    "\n",
    "There are 3 bathrooms to decorate. In total 60 black tiles and 43 pink tiles are needed. Zapray needs to purchase \n",
    "6 piles of black tiles and 5 piles of pink tiles. The total cost is 6×5+5×7=65\n",
    "6×5+5×7=65 dollars.\n",
    "\n",
    "\n"
   ]
  },
  {
   "cell_type": "code",
   "execution_count": null,
   "metadata": {},
   "outputs": [],
   "source": [
    "N, Cb, Cp= int(input()).split()\n",
    "for i in range(N):\n",
    "    Bi, Pi=input().split()"
   ]
  },
  {
   "cell_type": "code",
   "execution_count": 14,
   "metadata": {},
   "outputs": [
    {
     "name": "stdout",
     "output_type": "stream",
     "text": [
      "2\n",
      "2 2 1\n",
      "2\n",
      "0\n",
      "4\n",
      "2 4 2\n",
      "0\n",
      "3\n",
      "5\n"
     ]
    }
   ],
   "source": [
    "t=int(input())\n",
    "for i in range(t):\n",
    "    m, n, k= map(int,input().split())\n",
    "    a=[]\n",
    "    for j in range(m):\n",
    "        x=int(input())\n",
    "        a.append(x)\n",
    "    if k>=m:\n",
    "        c=0\n",
    "        p=m\n",
    "        for s in a:\n",
    "            if n!=s:\n",
    "                c=c+(n-s)\n",
    "        p-=1\n",
    "        print(c)\n",
    "    elif k<m:\n",
    "        c=0\n",
    "        p=k\n",
    "        z=[]\n",
    "        for s in a:\n",
    "            if n!=s:\n",
    "                q=n-s\n",
    "                z.append(q)\n",
    "            else:\n",
    "                z.append(s)\n",
    "        z.sort(reverse = True)\n",
    "        for d in range(p+1):\n",
    "            c=c+z[d]\n",
    "        print(c)\n",
    "                \n",
    "        \n",
    "        \n"
   ]
  },
  {
   "cell_type": "markdown",
   "metadata": {},
   "source": [
    "a=[]\n",
    "for i in range(3):\n",
    "    i=int(input())\n",
    "    a.append(i)"
   ]
  },
  {
   "cell_type": "code",
   "execution_count": 2,
   "metadata": {},
   "outputs": [
    {
     "data": {
      "text/plain": [
       "1"
      ]
     },
     "execution_count": 2,
     "metadata": {},
     "output_type": "execute_result"
    }
   ],
   "source": [
    "p=2\n",
    "p-=1\n",
    "p"
   ]
  },
  {
   "cell_type": "code",
   "execution_count": 6,
   "metadata": {},
   "outputs": [],
   "source": [
    "a=[1,2,3,4,5,6]"
   ]
  },
  {
   "cell_type": "code",
   "execution_count": 2,
   "metadata": {},
   "outputs": [
    {
     "name": "stdout",
     "output_type": "stream",
     "text": [
      "2\n",
      "2 2 1\n",
      "2\n",
      "0\n",
      "4\n",
      "2 4 2\n",
      "0\n",
      "3\n",
      "5\n"
     ]
    }
   ],
   "source": [
    "t=int(input())\n",
    "for i in range(t):\n",
    "    m, n, k= map(int,input().split())\n",
    "    a=[]\n",
    "    count = 0\n",
    "    for j in range(m):\n",
    "        x=int(input())\n",
    "        a.append(x)\n",
    "        \n",
    "    arr = sorted(a)\n",
    "    \n",
    "    for j in range(k):\n",
    "        count += n-arr[j]\n",
    "    \n",
    "    for j in range(k,m):\n",
    "        count+=arr[j]\n",
    "    \n",
    "    print(count)\n",
    "\n",
    "\n"
   ]
  },
  {
   "cell_type": "code",
   "execution_count": 5,
   "metadata": {},
   "outputs": [
    {
     "name": "stdout",
     "output_type": "stream",
     "text": [
      "2 3 3 6\n",
      "1\n"
     ]
    }
   ],
   "source": [
    "import math\n",
    "c, n, p, w = map(int, input().split())\n",
    "\n",
    "free = n - math.ceil(w/p)\n",
    "print(free)\n",
    "\n",
    "arr = []\n",
    "\n",
    "while()"
   ]
  },
  {
   "cell_type": "code",
   "execution_count": 10,
   "metadata": {},
   "outputs": [],
   "source": [
    "def makeTable(arr,c,w):\n",
    "    if(c>w):\n",
    "        return 0\n",
    "    else:\n",
    "        x = arr[-1]\n",
    "        \n",
    "        if(x<c):\n",
    "            arr[-2] -= c-x\n",
    "            return 1 + makeTable(arr[:-1],c,w-c)\n",
    "        elif(x==c):\n",
    "            return 1 + makeTable(arr[:-1],c,w-c)\n",
    "        else :\n",
    "            return 0"
   ]
  },
  {
   "cell_type": "code",
   "execution_count": 15,
   "metadata": {},
   "outputs": [
    {
     "name": "stdout",
     "output_type": "stream",
     "text": [
      "10 3 3 8\n",
      "0\n"
     ]
    }
   ],
   "source": [
    "c, n, p, w = map(int, input().split())\n",
    "\n",
    "arr = []\n",
    "temp = w\n",
    "while(temp > 0):\n",
    "    if(temp > p):\n",
    "        arr.append(p)\n",
    "    else:\n",
    "        arr.append(temp)\n",
    "    temp-=p\n",
    "\n",
    "print(makeTable(arr,c,w))"
   ]
  },
  {
   "cell_type": "code",
   "execution_count": 9,
   "metadata": {},
   "outputs": [
    {
     "name": "stdout",
     "output_type": "stream",
     "text": [
      "[2, 4]\n"
     ]
    }
   ],
   "source": [
    "a=[2,4,6]\n",
    "print(a[:-1])"
   ]
  },
  {
   "cell_type": "markdown",
   "metadata": {},
   "source": [
    "## MOSAIC - II"
   ]
  },
  {
   "cell_type": "code",
   "execution_count": 13,
   "metadata": {},
   "outputs": [
    {
     "name": "stdout",
     "output_type": "stream",
     "text": [
      "8 5 3 2 100 3\n",
      "139\n"
     ]
    }
   ],
   "source": [
    "import math\n",
    "w, h, a, b, m, c = map(int,input().split())\n",
    "\n",
    "max_tiles = math.ceil(w/a) * math.ceil(h/b)\n",
    "\n",
    "max_cost = math.ceil(max_tiles/10) * m + (w+h)*c\n",
    "\n",
    "print(max_cost)"
   ]
  },
  {
   "cell_type": "code",
   "execution_count": 18,
   "metadata": {},
   "outputs": [
    {
     "name": "stdout",
     "output_type": "stream",
     "text": [
      "98765 43210 1 1 777 1\n",
      "331595290005\n"
     ]
    }
   ],
   "source": [
    "import math\n",
    "w, h, a, b, m, c = map(int,input().split())\n",
    "\n",
    "max_tiles = math.ceil(w/a) * math.ceil(h/b)\n",
    "\n",
    "max_cost = 0\n",
    "if( w%a ):\n",
    "    max_cost += h*c\n",
    "if( h%b) :\n",
    "    max_cost += w*c\n",
    "max_cost += math.ceil(max_tiles/10) * m\n",
    "\n",
    "print(max_cost)"
   ]
  },
  {
   "cell_type": "markdown",
   "metadata": {},
   "source": [
    "## ROTATING LIGHTS"
   ]
  },
  {
   "cell_type": "code",
   "execution_count": null,
   "metadata": {},
   "outputs": [],
   "source": [
    "n, t = map(int,input().split())\n",
    "on = list(map(int,input().split()))\n",
    "arr = list(range(1,t+1))\n",
    "\n",
    "unique = []\n",
    "for i in range(t):\n",
    "    arr = arr[1:] + [arr[0]]\n",
    "    \n",
    "    x = [ arr[on[i]] for i in range(n)]\n",
    "    x = sorted(x)\n",
    "    if x not in unique:\n",
    "        unique.append(x)\n",
    "print(len(unique)-1)\n"
   ]
  },
  {
   "cell_type": "code",
   "execution_count": 51,
   "metadata": {},
   "outputs": [
    {
     "name": "stdout",
     "output_type": "stream",
     "text": [
      "2 4\n",
      "1 3\n",
      "4\n"
     ]
    }
   ],
   "source": [
    "n, t = map(int,input().split())\n",
    "on = list(map(int,input().split()))\n",
    "arr = list(range(1,t+1))\n",
    "\n",
    "unique = []\n",
    "for i in range(t//2):\n",
    "    arr = arr[1:] + [arr[0]]\n",
    "    \n",
    "    x = [ arr[on[i]] for i in range(n)]\n",
    "    if x not in unique:\n",
    "        unique.append(x)\n",
    "n = len(unique)*2\n",
    "print(n)\n"
   ]
  },
  {
   "cell_type": "code",
   "execution_count": 33,
   "metadata": {},
   "outputs": [
    {
     "name": "stdout",
     "output_type": "stream",
     "text": [
      "[1, 2, 3, 4, 5]\n"
     ]
    }
   ],
   "source": [
    "arr = arr[1:] + [arr[0]]\n",
    "print(arr)"
   ]
  },
  {
   "cell_type": "code",
   "execution_count": 26,
   "metadata": {},
   "outputs": [],
   "source": [
    "arr = arr[1:] + [arr[0]]"
   ]
  },
  {
   "cell_type": "code",
   "execution_count": 34,
   "metadata": {},
   "outputs": [
    {
     "name": "stdout",
     "output_type": "stream",
     "text": [
      "[1, 3]\n"
     ]
    }
   ],
   "source": [
    "x = [ arr[on[i]-1] for i in range(n)]\n",
    "print(x)"
   ]
  },
  {
   "cell_type": "code",
   "execution_count": 44,
   "metadata": {},
   "outputs": [
    {
     "name": "stdout",
     "output_type": "stream",
     "text": [
      "[[2, 4], [1, 3]]\n"
     ]
    }
   ],
   "source": [
    "print(unique)"
   ]
  },
  {
   "cell_type": "markdown",
   "metadata": {},
   "source": [
    "## Identifying Infected"
   ]
  },
  {
   "cell_type": "code",
   "execution_count": 55,
   "metadata": {},
   "outputs": [
    {
     "name": "stdout",
     "output_type": "stream",
     "text": [
      "6 5\n",
      "1 2\n",
      "1 3\n",
      "2 4\n",
      "4 5\n",
      "3 4\n",
      "2\n",
      "1 5\n",
      "4 3\n"
     ]
    }
   ],
   "source": [
    "n,m = map(int,input().split())\n",
    "l1 = []\n",
    "for i in range(m):\n",
    "    x,y = (map(int,input().split()))\n",
    "    l1+=[(x,y)]\n",
    "q = int(input())\n",
    "\n",
    "l2 = []\n",
    "adjacency = []\n",
    "for i in range(q):\n",
    "    x,y = (map(int,input().split()))\n",
    "    l2+=[(x,y)]\n",
    "    \n"
   ]
  },
  {
   "cell_type": "code",
   "execution_count": null,
   "metadata": {},
   "outputs": [],
   "source": [
    "6 5\n",
    "1 2\n",
    "1 3\n",
    "2 4\n",
    "4 5\n",
    "3 4\n",
    "2\n",
    "1 5\n",
    "4 3"
   ]
  }
 ],
 "metadata": {
  "kernelspec": {
   "display_name": "Python 3",
   "language": "python",
   "name": "python3"
  },
  "language_info": {
   "codemirror_mode": {
    "name": "ipython",
    "version": 3
   },
   "file_extension": ".py",
   "mimetype": "text/x-python",
   "name": "python",
   "nbconvert_exporter": "python",
   "pygments_lexer": "ipython3",
   "version": "3.8.3"
  }
 },
 "nbformat": 4,
 "nbformat_minor": 4
}
